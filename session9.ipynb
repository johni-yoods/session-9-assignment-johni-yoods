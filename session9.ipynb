{
  "nbformat": 4,
  "nbformat_minor": 0,
  "metadata": {
    "colab": {
      "name": "session9.ipynb",
      "provenance": [],
      "collapsed_sections": []
    },
    "kernelspec": {
      "name": "python3",
      "display_name": "Python 3"
    },
    "language_info": {
      "name": "python"
    }
  },
  "cells": [
    {
      "cell_type": "code",
      "metadata": {
        "colab": {
          "base_uri": "https://localhost:8080/"
        },
        "id": "4aKb8_NHHg6e",
        "outputId": "89b9c17c-9597-4e89-90b6-7f0fbd15f9b2"
      },
      "source": [
        "!pip3 install faker"
      ],
      "execution_count": 2,
      "outputs": [
        {
          "output_type": "stream",
          "text": [
            "Collecting faker\n",
            "\u001b[?25l  Downloading https://files.pythonhosted.org/packages/e4/be/d03e305f1d879f541c23d586023ec11b124d6cc3d75a95159470754134d9/Faker-8.10.0-py3-none-any.whl (1.2MB)\n",
            "\r\u001b[K     |▎                               | 10kB 17.3MB/s eta 0:00:01\r\u001b[K     |▋                               | 20kB 24.4MB/s eta 0:00:01\r\u001b[K     |▉                               | 30kB 19.6MB/s eta 0:00:01\r\u001b[K     |█▏                              | 40kB 16.4MB/s eta 0:00:01\r\u001b[K     |█▍                              | 51kB 8.1MB/s eta 0:00:01\r\u001b[K     |█▊                              | 61kB 8.4MB/s eta 0:00:01\r\u001b[K     |██                              | 71kB 8.9MB/s eta 0:00:01\r\u001b[K     |██▎                             | 81kB 8.4MB/s eta 0:00:01\r\u001b[K     |██▌                             | 92kB 8.6MB/s eta 0:00:01\r\u001b[K     |██▉                             | 102kB 9.2MB/s eta 0:00:01\r\u001b[K     |███                             | 112kB 9.2MB/s eta 0:00:01\r\u001b[K     |███▍                            | 122kB 9.2MB/s eta 0:00:01\r\u001b[K     |███▋                            | 133kB 9.2MB/s eta 0:00:01\r\u001b[K     |████                            | 143kB 9.2MB/s eta 0:00:01\r\u001b[K     |████▏                           | 153kB 9.2MB/s eta 0:00:01\r\u001b[K     |████▌                           | 163kB 9.2MB/s eta 0:00:01\r\u001b[K     |████▊                           | 174kB 9.2MB/s eta 0:00:01\r\u001b[K     |█████                           | 184kB 9.2MB/s eta 0:00:01\r\u001b[K     |█████▎                          | 194kB 9.2MB/s eta 0:00:01\r\u001b[K     |█████▋                          | 204kB 9.2MB/s eta 0:00:01\r\u001b[K     |█████▉                          | 215kB 9.2MB/s eta 0:00:01\r\u001b[K     |██████▏                         | 225kB 9.2MB/s eta 0:00:01\r\u001b[K     |██████▍                         | 235kB 9.2MB/s eta 0:00:01\r\u001b[K     |██████▊                         | 245kB 9.2MB/s eta 0:00:01\r\u001b[K     |███████                         | 256kB 9.2MB/s eta 0:00:01\r\u001b[K     |███████▎                        | 266kB 9.2MB/s eta 0:00:01\r\u001b[K     |███████▌                        | 276kB 9.2MB/s eta 0:00:01\r\u001b[K     |███████▉                        | 286kB 9.2MB/s eta 0:00:01\r\u001b[K     |████████                        | 296kB 9.2MB/s eta 0:00:01\r\u001b[K     |████████▍                       | 307kB 9.2MB/s eta 0:00:01\r\u001b[K     |████████▊                       | 317kB 9.2MB/s eta 0:00:01\r\u001b[K     |█████████                       | 327kB 9.2MB/s eta 0:00:01\r\u001b[K     |█████████▎                      | 337kB 9.2MB/s eta 0:00:01\r\u001b[K     |█████████▌                      | 348kB 9.2MB/s eta 0:00:01\r\u001b[K     |█████████▉                      | 358kB 9.2MB/s eta 0:00:01\r\u001b[K     |██████████                      | 368kB 9.2MB/s eta 0:00:01\r\u001b[K     |██████████▍                     | 378kB 9.2MB/s eta 0:00:01\r\u001b[K     |██████████▋                     | 389kB 9.2MB/s eta 0:00:01\r\u001b[K     |███████████                     | 399kB 9.2MB/s eta 0:00:01\r\u001b[K     |███████████▏                    | 409kB 9.2MB/s eta 0:00:01\r\u001b[K     |███████████▌                    | 419kB 9.2MB/s eta 0:00:01\r\u001b[K     |███████████▊                    | 430kB 9.2MB/s eta 0:00:01\r\u001b[K     |████████████                    | 440kB 9.2MB/s eta 0:00:01\r\u001b[K     |████████████▎                   | 450kB 9.2MB/s eta 0:00:01\r\u001b[K     |████████████▋                   | 460kB 9.2MB/s eta 0:00:01\r\u001b[K     |████████████▉                   | 471kB 9.2MB/s eta 0:00:01\r\u001b[K     |█████████████▏                  | 481kB 9.2MB/s eta 0:00:01\r\u001b[K     |█████████████▍                  | 491kB 9.2MB/s eta 0:00:01\r\u001b[K     |█████████████▊                  | 501kB 9.2MB/s eta 0:00:01\r\u001b[K     |██████████████                  | 512kB 9.2MB/s eta 0:00:01\r\u001b[K     |██████████████▎                 | 522kB 9.2MB/s eta 0:00:01\r\u001b[K     |██████████████▌                 | 532kB 9.2MB/s eta 0:00:01\r\u001b[K     |██████████████▉                 | 542kB 9.2MB/s eta 0:00:01\r\u001b[K     |███████████████                 | 552kB 9.2MB/s eta 0:00:01\r\u001b[K     |███████████████▍                | 563kB 9.2MB/s eta 0:00:01\r\u001b[K     |███████████████▋                | 573kB 9.2MB/s eta 0:00:01\r\u001b[K     |████████████████                | 583kB 9.2MB/s eta 0:00:01\r\u001b[K     |████████████████▏               | 593kB 9.2MB/s eta 0:00:01\r\u001b[K     |████████████████▌               | 604kB 9.2MB/s eta 0:00:01\r\u001b[K     |████████████████▉               | 614kB 9.2MB/s eta 0:00:01\r\u001b[K     |█████████████████               | 624kB 9.2MB/s eta 0:00:01\r\u001b[K     |█████████████████▍              | 634kB 9.2MB/s eta 0:00:01\r\u001b[K     |█████████████████▋              | 645kB 9.2MB/s eta 0:00:01\r\u001b[K     |██████████████████              | 655kB 9.2MB/s eta 0:00:01\r\u001b[K     |██████████████████▏             | 665kB 9.2MB/s eta 0:00:01\r\u001b[K     |██████████████████▌             | 675kB 9.2MB/s eta 0:00:01\r\u001b[K     |██████████████████▊             | 686kB 9.2MB/s eta 0:00:01\r\u001b[K     |███████████████████             | 696kB 9.2MB/s eta 0:00:01\r\u001b[K     |███████████████████▎            | 706kB 9.2MB/s eta 0:00:01\r\u001b[K     |███████████████████▋            | 716kB 9.2MB/s eta 0:00:01\r\u001b[K     |███████████████████▉            | 727kB 9.2MB/s eta 0:00:01\r\u001b[K     |████████████████████▏           | 737kB 9.2MB/s eta 0:00:01\r\u001b[K     |████████████████████▍           | 747kB 9.2MB/s eta 0:00:01\r\u001b[K     |████████████████████▊           | 757kB 9.2MB/s eta 0:00:01\r\u001b[K     |█████████████████████           | 768kB 9.2MB/s eta 0:00:01\r\u001b[K     |█████████████████████▎          | 778kB 9.2MB/s eta 0:00:01\r\u001b[K     |█████████████████████▌          | 788kB 9.2MB/s eta 0:00:01\r\u001b[K     |█████████████████████▉          | 798kB 9.2MB/s eta 0:00:01\r\u001b[K     |██████████████████████          | 808kB 9.2MB/s eta 0:00:01\r\u001b[K     |██████████████████████▍         | 819kB 9.2MB/s eta 0:00:01\r\u001b[K     |██████████████████████▋         | 829kB 9.2MB/s eta 0:00:01\r\u001b[K     |███████████████████████         | 839kB 9.2MB/s eta 0:00:01\r\u001b[K     |███████████████████████▏        | 849kB 9.2MB/s eta 0:00:01\r\u001b[K     |███████████████████████▌        | 860kB 9.2MB/s eta 0:00:01\r\u001b[K     |███████████████████████▊        | 870kB 9.2MB/s eta 0:00:01\r\u001b[K     |████████████████████████        | 880kB 9.2MB/s eta 0:00:01\r\u001b[K     |████████████████████████▎       | 890kB 9.2MB/s eta 0:00:01\r\u001b[K     |████████████████████████▋       | 901kB 9.2MB/s eta 0:00:01\r\u001b[K     |████████████████████████▉       | 911kB 9.2MB/s eta 0:00:01\r\u001b[K     |█████████████████████████▏      | 921kB 9.2MB/s eta 0:00:01\r\u001b[K     |█████████████████████████▌      | 931kB 9.2MB/s eta 0:00:01\r\u001b[K     |█████████████████████████▊      | 942kB 9.2MB/s eta 0:00:01\r\u001b[K     |██████████████████████████      | 952kB 9.2MB/s eta 0:00:01\r\u001b[K     |██████████████████████████▎     | 962kB 9.2MB/s eta 0:00:01\r\u001b[K     |██████████████████████████▋     | 972kB 9.2MB/s eta 0:00:01\r\u001b[K     |██████████████████████████▉     | 983kB 9.2MB/s eta 0:00:01\r\u001b[K     |███████████████████████████▏    | 993kB 9.2MB/s eta 0:00:01\r\u001b[K     |███████████████████████████▍    | 1.0MB 9.2MB/s eta 0:00:01\r\u001b[K     |███████████████████████████▊    | 1.0MB 9.2MB/s eta 0:00:01\r\u001b[K     |████████████████████████████    | 1.0MB 9.2MB/s eta 0:00:01\r\u001b[K     |████████████████████████████▎   | 1.0MB 9.2MB/s eta 0:00:01\r\u001b[K     |████████████████████████████▌   | 1.0MB 9.2MB/s eta 0:00:01\r\u001b[K     |████████████████████████████▉   | 1.1MB 9.2MB/s eta 0:00:01\r\u001b[K     |█████████████████████████████   | 1.1MB 9.2MB/s eta 0:00:01\r\u001b[K     |█████████████████████████████▍  | 1.1MB 9.2MB/s eta 0:00:01\r\u001b[K     |█████████████████████████████▋  | 1.1MB 9.2MB/s eta 0:00:01\r\u001b[K     |██████████████████████████████  | 1.1MB 9.2MB/s eta 0:00:01\r\u001b[K     |██████████████████████████████▏ | 1.1MB 9.2MB/s eta 0:00:01\r\u001b[K     |██████████████████████████████▌ | 1.1MB 9.2MB/s eta 0:00:01\r\u001b[K     |██████████████████████████████▊ | 1.1MB 9.2MB/s eta 0:00:01\r\u001b[K     |███████████████████████████████ | 1.1MB 9.2MB/s eta 0:00:01\r\u001b[K     |███████████████████████████████▎| 1.1MB 9.2MB/s eta 0:00:01\r\u001b[K     |███████████████████████████████▋| 1.2MB 9.2MB/s eta 0:00:01\r\u001b[K     |███████████████████████████████▉| 1.2MB 9.2MB/s eta 0:00:01\r\u001b[K     |████████████████████████████████| 1.2MB 9.2MB/s \n",
            "\u001b[?25hRequirement already satisfied: text-unidecode==1.3 in /usr/local/lib/python3.7/dist-packages (from faker) (1.3)\n",
            "Requirement already satisfied: python-dateutil>=2.4 in /usr/local/lib/python3.7/dist-packages (from faker) (2.8.1)\n",
            "Requirement already satisfied: six>=1.5 in /usr/local/lib/python3.7/dist-packages (from python-dateutil>=2.4->faker) (1.15.0)\n",
            "Installing collected packages: faker\n",
            "Successfully installed faker-8.10.0\n"
          ],
          "name": "stdout"
        }
      ]
    },
    {
      "cell_type": "code",
      "metadata": {
        "id": "__jlIWQBoczI"
      },
      "source": [
        "from faker import Faker\n",
        "from collections import namedtuple\n",
        "import random, string\n",
        "import datetime\n",
        "fake = Faker()\n",
        "from time import perf_counter"
      ],
      "execution_count": 6,
      "outputs": []
    },
    {
      "cell_type": "markdown",
      "metadata": {
        "id": "FVXZWrqxE1zP"
      },
      "source": [
        "**Random Profiles - Named tuples**"
      ]
    },
    {
      "cell_type": "code",
      "metadata": {
        "id": "1frxVchxTPHa"
      },
      "source": [
        "\n",
        "#1 generate random profiles using faker library. Process the data using named tuple\n",
        "class random_profiles_nt:\n",
        "    def __init__(self):\n",
        "        \"\"\"create random profiles and stored it in a named tuple\"\"\"\n",
        "        self.profiles = namedtuple('profiles',fake.profile().keys())\n",
        "        self.group = namedtuple('group',['profiles'])\n",
        "\n",
        "        for i in range(10000):\n",
        "            p1 = self.profiles(**fake.profile())\n",
        "            if(i==0):\n",
        "                self.profiles_nt = self.group(p1)\n",
        "            else:\n",
        "                self.profiles_nt += self.group(p1)\n",
        "    def largest_bloodgroup(self)->tuple:\n",
        "        \"\"\"\n",
        "        find out and \n",
        "        returns the most common blood group from the profiles\n",
        "        \"\"\"\n",
        "        blood_group = {}\n",
        "        for prof in self.profiles_nt:\n",
        "            bg = prof.blood_group\n",
        "            if bg not in blood_group:\n",
        "                 blood_group[bg]=0\n",
        "            else:\n",
        "                 blood_group[bg]+=1\n",
        "        prev_count = 0\n",
        "        for i in blood_group:\n",
        "            count = blood_group[i]\n",
        "            if count>prev_count:\n",
        "                prev_count = count\n",
        "                most_bg = i\n",
        "\n",
        "        return most_bg\n",
        "\n",
        "    def oldest_person(self):\n",
        "        \"\"\"\n",
        "        find out and \n",
        "        returns the oldest person's age from the profiles\n",
        "        \"\"\"\n",
        "        current_year = int(str(datetime.date.today())[:4])\n",
        "        oldest_year = current_year\n",
        "        for prof in self.profiles_nt:\n",
        "            year = int(str(prof.birthdate)[:4])\n",
        "            if year<oldest_year:\n",
        "                oldest_year = year\n",
        "        oldest_person_age = current_year-oldest_year\n",
        "        return oldest_person_age\n",
        "    def average_age(self):\n",
        "        \"\"\"\n",
        "        find out and \n",
        "        returns the average age from the profiles\n",
        "        \"\"\"\n",
        "        current_year = int(str(datetime.date.today())[:4])\n",
        "        avg_age = 0\n",
        "        no = 0\n",
        "        for prof in self.profiles_nt:\n",
        "            year = int(str(prof.birthdate)[:4])\n",
        "            age = current_year - year\n",
        "            avg_age = (avg_age+age)\n",
        "            no+=1\n",
        "        return avg_age/no\n",
        "    def mean_location(self):\n",
        "       \"\"\"\n",
        "       find out and \n",
        "        returns the mean location of the profiles\n",
        "       \"\"\"\n",
        "       mean_x = 0\n",
        "       mean_y = 0\n",
        "       no = 0\n",
        "       for prof in self.profiles_nt:\n",
        "            x,y = (prof.current_location)\n",
        "            mean_x,mean_y = (mean_x + x),(mean_y+y)\n",
        "            no+=1\n",
        "       return mean_x/no,mean_y/no\n",
        "\n",
        "\n"
      ],
      "execution_count": 9,
      "outputs": []
    },
    {
      "cell_type": "code",
      "metadata": {
        "colab": {
          "base_uri": "https://localhost:8080/"
        },
        "id": "Gh8b7BRiH4hu",
        "outputId": "c6bbd445-005a-4128-dc35-219e2a4cfa14"
      },
      "source": [
        "r=random_profiles_nt()\n",
        "print(\"largest blood group:\",r.largest_bloodgroup())\n",
        "print(\"oldest person's age:\",r.oldest_person())\n",
        "print(\"average age:\",  r.average_age())\n",
        "print(\"mean location:\",r.mean_location())"
      ],
      "execution_count": 12,
      "outputs": [
        {
          "output_type": "stream",
          "text": [
            "largest blood group: B-\n",
            "oldest person's age: 116\n",
            "average age: 58.4811\n",
            "mean location: (Decimal('-0.2826597414'), Decimal('1.1912757673'))\n"
          ],
          "name": "stdout"
        }
      ]
    },
    {
      "cell_type": "markdown",
      "metadata": {
        "id": "nFUkUCnrHY3h"
      },
      "source": [
        "**Random Profiles - Dictionary**"
      ]
    },
    {
      "cell_type": "code",
      "metadata": {
        "id": "xLVXS--bojrf"
      },
      "source": [
        "#2 generate random profiles using faker library. Process the data using dictionary\n",
        "class random_profiles:\n",
        "    def __init__(self):\n",
        "        \"\"\"create random profiles and stored it in a named tuple\"\"\"\n",
        "        self.profiles=[]\n",
        "        for i in range(10000):\n",
        "            self.profiles.append(fake.profile())\n",
        "    def largest_bloodgroup(self):\n",
        "        \"\"\"\n",
        "        find out and \n",
        "        returns the most common blood group from the profiles\n",
        "        \"\"\"\n",
        "        blood_group = {}\n",
        "        for prof in self.profiles:\n",
        "            bg = prof['blood_group']\n",
        "            if bg not in blood_group:\n",
        "                 blood_group[bg]=0\n",
        "            else:\n",
        "                 blood_group[bg]+=1\n",
        "        prev_count = 0\n",
        "        for i in blood_group:\n",
        "            count = blood_group[i]\n",
        "            if count>prev_count:\n",
        "                prev_count = count\n",
        "                most_bg = i\n",
        "\n",
        "        return most_bg\n",
        "\n",
        "    def oldest_person(self):\n",
        "        \"\"\"\n",
        "        find out and \n",
        "        returns the oldest person's age from the profiles\n",
        "        \"\"\"\n",
        "        current_year = int(str(datetime.date.today())[:4])\n",
        "        oldest_year = current_year\n",
        "        for prof in self.profiles:\n",
        "            year = int(str(prof['birthdate'])[:4])\n",
        "            if year<oldest_year:\n",
        "                oldest_year = year\n",
        "        oldest_person_age = current_year-oldest_year\n",
        "        return oldest_person_age\n",
        "    def average_age(self):\n",
        "        \"\"\"\n",
        "        find out and \n",
        "        returns the average age from the profiles\n",
        "        \"\"\"\n",
        "        current_year = int(str(datetime.date.today())[:4])\n",
        "        avg_age = 0\n",
        "        no = 0\n",
        "        for prof in self.profiles:\n",
        "            year = int(str(prof['birthdate'])[:4])\n",
        "            age = current_year - year\n",
        "            avg_age = (avg_age+age)\n",
        "            no+=1\n",
        "        return avg_age/no\n",
        "    def mean_location(self):\n",
        "       \"\"\"\n",
        "        find out and \n",
        "        returns the mean location of the profiles\n",
        "       \"\"\"\n",
        "       mean_x = 0\n",
        "       mean_y = 0\n",
        "       no = 0\n",
        "       for prof in self.profiles:\n",
        "            x,y = (prof['current_location'])\n",
        "            mean_x,mean_y = (mean_x + x),(mean_y+y)\n",
        "            no+=1\n",
        "       return mean_x/no,mean_y/no\n",
        "\n",
        "\n"
      ],
      "execution_count": 14,
      "outputs": []
    },
    {
      "cell_type": "code",
      "metadata": {
        "colab": {
          "base_uri": "https://localhost:8080/"
        },
        "id": "rrnVUfG5ImxG",
        "outputId": "298f301e-b468-4299-a88c-6e780ea0cb41"
      },
      "source": [
        "r=random_profiles()\n",
        "print(\"largest blood group:\",r.largest_bloodgroup())\n",
        "print(\"oldest person's age:\",r.oldest_person())\n",
        "print(\"average age:\",  r.average_age())\n",
        "print(\"mean location:\",r.mean_location())"
      ],
      "execution_count": 15,
      "outputs": [
        {
          "output_type": "stream",
          "text": [
            "largest blood group: A+\n",
            "oldest person's age: 113\n",
            "average age: 56.39\n",
            "mean location: (Decimal('-4.65794169'), Decimal('-9.23699849'))\n"
          ],
          "name": "stdout"
        }
      ]
    },
    {
      "cell_type": "code",
      "metadata": {
        "id": "jBwPio1eomEK"
      },
      "source": [
        "#3\n",
        "def stock_exchange():\n",
        "    \"\"\"\n",
        "    This function is used to generate the stock market data for 100 Companies\n",
        "\n",
        "    # Returns:\n",
        "    It returns a Named tuple containing the stocks value of all 100 companies.\n",
        "    \"\"\"\n",
        "    company = namedtuple('company', 'name symbol open high low close')\n",
        "    \n",
        "    stocks = namedtuple('company',['stock'] )\n",
        "    for i in range(100):\n",
        "        weight =  random.uniform(1,50)\n",
        "        open_price = random.uniform(10,2000) * weight\n",
        "\n",
        "        close_price = open_price * random.uniform(0.1,10.15)\n",
        "\n",
        "        high_value = open_price * random.uniform(0.5,10)\n",
        "        low_value  = open_price * random.uniform(0.1,0.5)\n",
        "        \n",
        "        if high_value < open_price:\n",
        "            high_value = open_price\n",
        "        if high_value < close_price:\n",
        "            high_value = close_price\n",
        "        if low_value > high_value:\n",
        "            if high_value>open_price:\n",
        "                low_value = open_price\n",
        "            else:\n",
        "                low_value = close_price\n",
        "        if(i==0):\n",
        "            s = company(fake.company(),''.join(random.choice(string.ascii_uppercase + string.digits) for _ in range(4)),open_price, high_value, low_value, close_price)\n",
        "            comp = stocks(s)\n",
        "        else:\n",
        "            s= company(fake.company(),''.join(random.choice(string.ascii_uppercase + string.digits) for _ in range(4)),open_price, high_value, low_value, close_price)\n",
        "            comp+=stocks(s)\n",
        "        \n",
        "    return comp\n"
      ],
      "execution_count": 17,
      "outputs": []
    },
    {
      "cell_type": "code",
      "metadata": {
        "colab": {
          "base_uri": "https://localhost:8080/"
        },
        "id": "iUV2q-8eIrJo",
        "outputId": "5f6b888f-063d-4bb3-8f62-372cfacc24d7"
      },
      "source": [
        "print(stock_exchange())"
      ],
      "execution_count": 18,
      "outputs": [
        {
          "output_type": "stream",
          "text": [
            "(company(name='Mclaughlin-Acevedo', symbol='XEZ0', open=1376.7559925693545, high=12784.624097164053, low=248.19388170212895, close=12784.624097164053), company(name='Graham PLC', symbol='BOYT', open=62599.07917216924, high=496889.80247117695, low=12893.4439858958, close=104414.75632275114), company(name='Edwards-Hamilton', symbol='NA84', open=36757.55319040148, high=319246.33195817133, low=5658.814212465697, close=175622.80722717708), company(name='Vega-Jackson', symbol='4VP1', open=27914.35351479825, high=240495.99606559248, low=9691.05311595959, close=62941.619535037054), company(name='Lawson-Jones', symbol='AJVZ', open=731.8399953775322, high=6639.45643516997, low=110.05242203094345, close=2121.1578807721185), company(name='Robertson-Chavez', symbol='VS5O', open=63416.05589328751, high=590664.7822900141, low=24154.160509916732, close=590664.7822900141), company(name='Jones Ltd', symbol='DTD9', open=16906.94686322952, high=137385.44856215757, low=8271.929776955605, close=137385.44856215757), company(name='Jones-Nguyen', symbol='M1DU', open=27574.82047627964, high=150270.06367037457, low=5916.977650075373, close=114999.75046392914), company(name='Jones-Smith', symbol='8GZ8', open=26282.3073478475, high=192395.15903934787, low=8507.082224010737, close=192395.15903934787), company(name='Williams, Tucker and Spears', symbol='CGDT', open=81839.67444107655, high=463934.22778849, low=30742.558814317523, close=248177.0843479903), company(name='Preston, Griffin and May', symbol='2RAT', open=81583.22335312252, high=446285.25552672974, low=25416.15623301317, close=215286.21070526284), company(name='Cunningham, Welch and Johnson', symbol='VOY2', open=5878.531526317679, high=46800.771229888596, low=696.40771950721, close=46800.771229888596), company(name='Lamb-Crane', symbol='HO57', open=62113.52091471232, high=182633.15895371707, low=30868.473414489126, close=13798.789398300969), company(name='Stewart PLC', symbol='X6Y3', open=22682.4265893033, high=97750.85638705344, low=5448.953527525692, close=97750.85638705344), company(name='Tran-Rosario', symbol='J7CY', open=34859.47474865051, high=254036.71407815194, low=15277.894288034006, close=254036.71407815194), company(name='Hill PLC', symbol='HG79', open=68655.36116307817, high=309194.4231478224, low=29806.31881960526, close=309194.4231478224), company(name='Underwood LLC', symbol='3WH1', open=6609.155872685713, high=22031.19336320401, low=3127.171818528485, close=993.2808631615669), company(name='Caldwell-Harper', symbol='SDO5', open=36148.618917880456, high=265344.89556248795, low=16348.142520224888, close=86891.3115585816), company(name='Wright-Dalton', symbol='58XP', open=97023.87706660067, high=782139.9107146465, low=24226.49105069893, close=547691.5271723999), company(name='Reed and Sons', symbol='JXH0', open=960.9541183866223, high=4333.711055175495, low=410.5825376764654, close=482.3002484934911), company(name='Castro Inc', symbol='QKM7', open=38646.55415419023, high=218073.18083952967, low=17249.939148243004, close=8568.782726195732), company(name='Kim, Alvarez and Simpson', symbol='48N1', open=12449.186962411188, high=38292.470595031344, low=6052.073485355793, close=38292.470595031344), company(name='Foster-Caldwell', symbol='ZLGZ', open=30176.532815264552, high=235831.01562102477, low=3775.6675233968735, close=75858.96319878804), company(name='Watson-Walker', symbol='R2LV', open=17942.482361694798, high=68371.73468056053, low=1927.8148408445848, close=68371.73468056053), company(name='Miller Ltd', symbol='82L4', open=12545.591320428504, high=88616.32664167004, low=4622.713552015889, close=47596.223962489144), company(name='Brown PLC', symbol='9B12', open=8552.849768127899, high=84785.43135882884, low=1120.951072623684, close=84785.43135882884), company(name='Myers, Martin and Wall', symbol='U203', open=4686.921216237112, high=37683.35546769498, low=1015.5430804137255, close=37683.35546769498), company(name='Ward and Sons', symbol='0YHL', open=2721.817925026111, high=10675.528549822631, low=898.0586052057624, close=5505.893904321648), company(name='Riley, Wheeler and Potter', symbol='TJFQ', open=32799.845862260074, high=199561.59028121224, low=15195.382030867242, close=190135.97256233776), company(name='Leon, Smith and Shea', symbol='S5A7', open=30790.607665602958, high=172576.53012701127, low=12224.838709898384, close=172576.53012701127), company(name='Massey Ltd', symbol='MXHM', open=4482.157695644911, high=35839.39620529935, low=2105.716646255385, close=35839.39620529935), company(name='King Group', symbol='2YPK', open=1341.220075922578, high=12178.814367472127, low=227.84330267259656, close=12178.814367472127), company(name='Brooks, Wise and Jones', symbol='S8KM', open=1048.8204378916432, high=9596.627574840397, low=336.1369135130888, close=5320.088314374736), company(name='Cook Ltd', symbol='9K37', open=53587.05726646884, high=332513.6756723079, low=20731.19893467264, close=154554.74464112226), company(name='Proctor, Jackson and Rangel', symbol='EM2H', open=89542.44361376445, high=261555.10567686285, low=43062.275834741784, close=261555.10567686285), company(name='Valencia Ltd', symbol='CUQ2', open=47603.111462893285, high=254023.18841865737, low=15697.319501467846, close=254023.18841865737), company(name='Robinson Ltd', symbol='QWVQ', open=4576.760967952882, high=42140.68833889348, low=2274.307745361031, close=42140.68833889348), company(name='Huff-Houston', symbol='XXYF', open=18528.79629374245, high=123117.87772995594, low=5314.177874023245, close=83790.7267238965), company(name='French-Turner', symbol='6IG6', open=22424.886746314343, high=221115.24328298253, low=9177.855540576207, close=19522.413089306378), company(name='Bautista, Quinn and Jackson', symbol='N3SN', open=10719.42283113603, high=72405.03734642711, low=2738.790637842814, close=14338.149341083697), company(name='Stewart-Griffin', symbol='1WL5', open=6776.127753755902, high=61802.92601434495, low=898.0711503451013, close=2920.356558985663), company(name='Maxwell Inc', symbol='E6Q1', open=32509.56514732833, high=274218.84732709435, low=9149.277616206027, close=274218.84732709435), company(name='Williams LLC', symbol='XILR', open=30095.416276368764, high=228807.4490482578, low=4199.056345402739, close=228807.4490482578), company(name='Spencer-Russo', symbol='7JLA', open=13891.650698123896, high=84889.64880892553, low=6660.365663010836, close=84889.64880892553), company(name='West Ltd', symbol='DNDR', open=17695.673838526833, high=156953.76467502434, low=3290.5664569667756, close=156953.76467502434), company(name='Miller-Carpenter', symbol='A8TM', open=5491.265657610141, high=47715.73837730749, low=2491.919820664199, close=21459.575347269343), company(name='White-Miller', symbol='0GTQ', open=23885.401910573575, high=51898.67018569138, low=8759.45700113046, close=24284.67303780098), company(name='Sullivan, Fischer and Rhodes', symbol='Q479', open=5628.545745526476, high=23790.370395504182, low=2040.109949581036, close=23790.370395504182), company(name='Perez-Thompson', symbol='3UNF', open=4186.248528240334, high=24346.59706554736, low=1075.8294588526803, close=21181.67476126328), company(name='Ayala-Dixon', symbol='TA2P', open=26535.577699830275, high=227691.9063817076, low=5181.5900113875805, close=130389.62450249713), company(name='Finley PLC', symbol='01N2', open=38316.34224962143, high=346170.4965806713, low=15649.671944498481, close=346170.4965806713), company(name='Weber-Wheeler', symbol='Y0E2', open=20379.120671081753, high=90754.34542014339, low=3861.385646574126, close=33078.59088767099), company(name='Brown-Hood', symbol='I7HA', open=790.1528323743042, high=2551.4448899469307, low=220.47307669513452, close=1733.100984962032), company(name='Wood Ltd', symbol='ZP2C', open=11762.334022096387, high=83315.72960345384, low=5086.99089560389, close=48600.10385327732), company(name='Hunter-Jackson', symbol='JYTS', open=14685.59708008827, high=73193.84340268518, low=6646.414793056676, close=47251.21803410342), company(name='Ballard Group', symbol='TUEG', open=4571.0336448066655, high=37003.363772593664, low=1550.2393053055716, close=17618.567253255565), company(name='Jordan, Mcdowell and Peters', symbol='YHQY', open=28081.316050394627, high=173252.894537513, low=5607.044857031178, close=173252.894537513), company(name='Lane-Jordan', symbol='9QWG', open=21627.2754164382, high=64315.10891326309, low=3448.2839302214948, close=30940.90654953916), company(name='Parker Inc', symbol='IJII', open=13583.164995704687, high=77325.04501937555, low=1863.5668457779693, close=64171.447620588595), company(name='Stewart-Velazquez', symbol='60UZ', open=4187.687498147576, high=38636.64529331526, low=864.4288566508786, close=38636.64529331526), company(name='Shannon Group', symbol='5GNX', open=17389.35999186927, high=128521.05130914832, low=4615.518616340564, close=6987.679741216799), company(name='Lucas, Munoz and Ortiz', symbol='KZK3', open=31952.078989460144, high=316026.1793563657, low=12236.847256160101, close=223738.5014985425), company(name='Willis, Roberts and Gray', symbol='DHXF', open=10776.893470433652, high=44632.32361357058, low=5005.734000645467, close=29949.41221920998), company(name='Rodriguez Group', symbol='KARE', open=80375.29428804734, high=397925.36189658794, low=39491.023143451144, close=397925.36189658794), company(name='Gibson LLC', symbol='Y7QO', open=68532.27514858228, high=544345.6720213895, low=31419.606874905658, close=544345.6720213895), company(name='Palmer-House', symbol='9GIX', open=3168.4717122790416, high=28751.312949158524, low=1130.071109861484, close=28751.312949158524), company(name='Flores-Gonzalez', symbol='SZTL', open=11294.019574368833, high=99311.16394037328, low=4666.2394179175635, close=55608.91197393062), company(name='Smith LLC', symbol='E1BH', open=51627.41924144578, high=334568.44641556405, low=16634.89023194071, close=261155.25860625005), company(name='Thomas Inc', symbol='IQVF', open=22689.607198138732, high=133236.2955714727, low=7557.006719822968, close=133236.2955714727), company(name='Diaz PLC', symbol='YD96', open=10078.30068583208, high=90143.72458303376, low=3797.240805157417, close=90143.72458303376), company(name='Stafford, Dyer and Roberts', symbol='PA5J', open=11157.199178386598, high=60514.82200548134, low=3750.2379819467674, close=60514.82200548134), company(name='Leon Group', symbol='9GMY', open=6913.053904258243, high=48859.09364214675, low=2039.3742599297798, close=48859.09364214675), company(name='Anderson-Bryant', symbol='305F', open=23628.439805059614, high=129312.26201180503, low=9264.280385939059, close=129312.26201180503), company(name='Yang-Braun', symbol='QPR4', open=58830.320574010555, high=326383.5929755616, low=16258.881863447019, close=326383.5929755616), company(name='White, Ramirez and Pena', symbol='MMUZ', open=39159.3007138477, high=352916.2242574742, low=6310.804955720498, close=190158.9274739687), company(name='Jacobs-Cline', symbol='WJ3R', open=1085.2088365026307, high=9352.202743385506, low=289.8968720442047, close=1656.1374193505424), company(name='Blair-Gallagher', symbol='12U9', open=9951.537153025487, high=71000.385041241, low=2103.0381768123357, close=71000.385041241), company(name='Pace-Kelly', symbol='KVEY', open=9044.268675470254, high=43813.20744065295, low=3784.0998796081644, close=43813.20744065295), company(name='Aguilar-Smith', symbol='554O', open=23205.02003494469, high=61909.966807901365, low=7359.493870522498, close=61909.966807901365), company(name='Taylor, Jones and Carlson', symbol='B8QJ', open=92396.37289325928, high=543004.0277928436, low=21736.10051182065, close=543004.0277928436), company(name='Thompson, Brown and Jacobson', symbol='BL0Q', open=12746.409807003567, high=124270.4639957937, low=2579.974445408314, close=100907.46854112616), company(name='Johnson Inc', symbol='8QOP', open=6873.075783886142, high=66678.9464724401, low=2457.7320037488967, close=26226.430276087383), company(name='Carlson-Salazar', symbol='CGM4', open=9390.81599880804, high=36866.3565869343, low=3567.6162894770014, close=36866.3565869343), company(name='Thomas, Charles and Castillo', symbol='G6HP', open=5809.3061497016415, high=44955.72416501576, low=1265.8152021389126, close=44955.72416501576), company(name='Smith, Ward and Smith', symbol='Z9GS', open=5006.2030464635145, high=47961.8493169941, low=1179.5042253539614, close=47961.8493169941), company(name='Mercado, Wagner and Sanchez', symbol='TVIU', open=24922.799465948934, high=86580.38234492512, low=8039.9370029448555, close=63303.73092666452), company(name='Ellis-Lee', symbol='XAIE', open=5307.477874204764, high=32091.12532948008, low=2584.722645783893, close=4777.242796646177), company(name='Glass-May', symbol='EVS1', open=5114.507689979896, high=20313.57461893743, low=1355.5008884906995, close=20313.57461893743), company(name='Brown-Garcia', symbol='VAJT', open=82130.34137579739, high=732185.7751299179, low=30238.6757368304, close=732185.7751299179), company(name='Higgins-Nunez', symbol='FLR1', open=39061.16101917332, high=345650.12588179624, low=12834.092276753205, close=101115.56141594725), company(name='Clark LLC', symbol='N03Q', open=29093.746541740973, high=258830.95900574268, low=10470.692702501457, close=258830.95900574268), company(name='Fisher and Sons', symbol='1HTQ', open=16342.474772997972, high=150986.51642621457, low=7421.226153984316, close=150986.51642621457), company(name='Howe, Bell and Dawson', symbol='5LCA', open=34441.396551166275, high=281031.5792738326, low=16790.490169238812, close=281031.5792738326), company(name='White-Jones', symbol='PRD8', open=1532.3408623057667, high=4815.256059401316, low=532.4405087420481, close=698.6235731658799), company(name='Hudson LLC', symbol='LYWB', open=5774.435998748522, high=52247.99209003652, low=1612.9576495845479, close=52247.99209003652), company(name='Vincent, Fuentes and Sanchez', symbol='G3EO', open=2046.3966476959704, high=5926.980359656048, low=291.2319404637717, close=5926.980359656048), company(name='Andrews, Shaw and Pearson', symbol='SULC', open=48803.84502353315, high=209626.18688130067, low=15569.912425414017, close=25338.663018867268), company(name='Mitchell, Williams and Tate', symbol='RCH9', open=72688.60272383013, high=530629.3015070363, low=17489.276256108376, close=530629.3015070363), company(name='Nelson-Hughes', symbol='R87N', open=24126.200687864344, high=141922.93146912573, low=10128.977491940623, close=141922.93146912573), company(name='Castillo, Boyd and Cardenas', symbol='JIGX', open=7386.527154256263, high=64235.34894419585, low=983.23687048089, close=19785.35787693136))\n"
          ],
          "name": "stdout"
        }
      ]
    },
    {
      "cell_type": "code",
      "metadata": {
        "id": "6d8f0UJrGVxZ"
      },
      "source": [
        "def prove_nt_exec_speed():\n",
        "  \"\"\" find the execution time of the named tuple and dictionary and\n",
        "  prove that named tuple execution is faster than that\"\"\"\n",
        "  r1=random_profiles_nt()\n",
        "\n",
        "  start = perf_counter()\n",
        "  r1.largest_bloodgroup()\n",
        "  r1.oldest_person()\n",
        "  r1.average_age()\n",
        "  r1.mean_location()\n",
        "  end=perf_counter()\n",
        "  \n",
        "  nt_exec_speed = end-start\n",
        "  print(\"nt exec time:\",nt_exec_speed)\n",
        " \n",
        "  r=random_profiles()\n",
        "  start = perf_counter()\n",
        "  r.largest_bloodgroup()\n",
        "  r.oldest_person()\n",
        "  r.average_age()\n",
        "  r.mean_location()\n",
        "  end=perf_counter()\n",
        "\n",
        "  dt_exec_speed = end-start\n",
        "  print(\"dt exec speed:\",dt_exec_speed)\n",
        "\n",
        "\n",
        "  if nt_exec_speed<dt_exec_speed:\n",
        "    print(\"named tuple is faster than dictionary\")\n",
        "  else:\n",
        "    print(\"something is wrong\")"
      ],
      "execution_count": 38,
      "outputs": []
    },
    {
      "cell_type": "code",
      "metadata": {
        "colab": {
          "base_uri": "https://localhost:8080/"
        },
        "id": "-do7FcM8onS5",
        "outputId": "11e7f7eb-9bac-4665-9181-4e6127b17eb9"
      },
      "source": [
        "prove_nt_exec_speed()"
      ],
      "execution_count": 39,
      "outputs": [
        {
          "output_type": "stream",
          "text": [
            "nt exec time: 0.03727496400006203\n",
            "dt exec speed: 0.0003591010001855466\n",
            "something is wrong\n"
          ],
          "name": "stdout"
        }
      ]
    }
  ]
}